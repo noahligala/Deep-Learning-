{
 "cells": [
  {
   "cell_type": "code",
   "execution_count": null,
   "id": "8269c441",
   "metadata": {},
   "outputs": [],
   "source": [
    "https://us04web.zoom.us/j/73167896570?pwd=bKvKJBPhTac4WV"
   ]
  }
 ],
 "metadata": {
  "kernelspec": {
   "display_name": "Python 3 (ipykernel)",
   "language": "python",
   "name": "python3"
  }
 },
 "nbformat": 4,
 "nbformat_minor": 5
}
